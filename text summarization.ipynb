{
 "cells": [
  {
   "cell_type": "code",
   "execution_count": 1,
   "metadata": {},
   "outputs": [],
   "source": [
    "import re\n",
    "import math"
   ]
  },
  {
   "cell_type": "code",
   "execution_count": 2,
   "metadata": {},
   "outputs": [],
   "source": [
    "# for reading input file\n",
    "text = open(\"1.txt\", encoding=\"utf8\").read()\n",
    "\n",
    "text = re.sub(r'(\\d+)', r'', text)\n",
    "text = text.replace('\\n', '')\n",
    "text = text.replace(u',', '')\n",
    "text = text.replace(u'\"', '')\n",
    "text = text.replace(u'(', '')\n",
    "text = text.replace(u')', '')\n",
    "text = text.replace(u'\"', '')\n",
    "text = text.replace(u':', '')\n",
    "text = text.replace(u\"'\", '')\n",
    "text = text.replace(u\"’\", '')\n",
    "text = text.replace(u\"‘\", '')\n",
    "text = text.replace(u\"‘‘\", '')\n",
    "text = text.replace(u\"’’\", '')\n",
    "text = text.replace(u\"''\", '')\n",
    "text = text.replace(u\".\", '')\n",
    "text = text.replace(u'?', u'।')\n",
    "sentences = text.split(u\"।\")\n",
    "#print(sentences)"
   ]
  },
  {
   "cell_type": "code",
   "execution_count": 3,
   "metadata": {},
   "outputs": [],
   "source": [
    "tokens = []\n",
    "for each in sentences:\n",
    "    word_list = each.split()\n",
    "    tokens = tokens + word_list\n",
    "#print(tokens)"
   ]
  },
  {
   "cell_type": "code",
   "execution_count": 4,
   "metadata": {},
   "outputs": [],
   "source": [
    "stop_removed_tokens = []\n",
    "f = open(\"stopwords.txt\", encoding=\"utf8\")\n",
    "stopwords = [x.strip() for x in f.readlines()]\n",
    "tokens = [i for i in tokens if i not in stopwords]\n",
    "stop_removed_tokens = set(tokens)\n",
    "#print(stop_removed_tokens)"
   ]
  },
  {
   "cell_type": "code",
   "execution_count": 5,
   "metadata": {},
   "outputs": [],
   "source": [
    "def generate_stem_words(word):\n",
    "    suffixes = {1: [u\"ो\", u\"े\", u\"ू\", u\"ु\", u\"ी\", u\"ि\", u\"ा\"],\n",
    "                2: [u\"कर\", u\"ाओ\", u\"िए\", u\"ाई\", u\"ाए\", u\"ने\", u\"नी\", u\"ना\", u\"ते\", u\"ीं\", u\"ती\", u\"ता\", u\"ाँ\", u\"ां\",\n",
    "                    u\"ों\",\n",
    "                    u\"ें\"],\n",
    "                3: [u\"ाकर\", u\"ाइए\", u\"ाईं\", u\"ाया\", u\"ेगी\", u\"ेगा\", u\"ोगी\", u\"ोगे\", u\"ाने\", u\"ाना\", u\"ाते\", u\"ाती\",\n",
    "                    u\"ाता\",\n",
    "                    u\"तीं\", u\"ाओं\", u\"ाएं\", u\"ुओं\", u\"ुएं\", u\"ुआं\"],\n",
    "                4: [u\"ाएगी\", u\"ाएगा\", u\"ाओगी\", u\"ाओगे\", u\"एंगी\", u\"ेंगी\", u\"एंगे\", u\"ेंगे\", u\"ूंगी\", u\"ूंगा\", u\"ातीं\",\n",
    "                    u\"नाओं\", u\"नाएं\", u\"ताओं\", u\"ताएं\", u\"ियाँ\", u\"ियों\", u\"ियां\"],\n",
    "                5: [u\"ाएंगी\", u\"ाएंगे\", u\"ाऊंगी\", u\"ाऊंगा\", u\"ाइयाँ\", u\"ाइयों\", u\"ाइयां\"],\n",
    "                }\n",
    "    for L in 5, 4, 3, 2, 1:\n",
    "        if len(word) > L + 1:\n",
    "            for suf in suffixes[L]:\n",
    "                if word.endswith(suf):\n",
    "                    return word[:-L]\n",
    "    return word\n",
    "\n",
    "\n",
    "def generate_stem_dict():\n",
    "    stem_word = {}\n",
    "    stemmed_word = []\n",
    "    for each_token in tokens:\n",
    "        temp = generate_stem_words(each_token)\n",
    "        stem_word[each_token] = temp\n",
    "        stemmed_word.append(temp)\n",
    "    return stem_word\n",
    "\n",
    "\n",
    "generate_stem_dict()\n",
    "tokens = stop_removed_tokens\n",
    "# print(tokens)\n",
    "# tokens = list (set(tokens))\n"
   ]
  },
  {
   "cell_type": "code",
   "execution_count": 6,
   "metadata": {},
   "outputs": [],
   "source": [
    "# Making word frequency  in dictinary datastructure\n",
    "freqTable = dict()\n",
    "for word in tokens:\n",
    "    if word in freqTable:\n",
    "        freqTable[word] += 1\n",
    "    else:\n",
    "        freqTable[word] = 1\n",
    "#printing the Frequency of Words\n"
   ]
  },
  {
   "cell_type": "code",
   "execution_count": 7,
   "metadata": {},
   "outputs": [],
   "source": [
    "#Tokenizing The Sentences\n",
    "sentences = text.split(u\"।\")\n",
    "\n",
    "#making sentenceValue dictionary and giving a sentenceValue(rank) through freqTable dictionary of words.\n",
    "sentenceValue = dict()\n",
    "for sentence in sentences:\n",
    "    for wordValue in freqTable:\n",
    "        if sentence in sentenceValue:\n",
    "            sentenceValue[sentence] += freqTable[wordValue]\n",
    "        else:\n",
    "            sentenceValue[sentence] = freqTable[wordValue]\n",
    "\n",
    "#Normalize the value of sentence rank as 0 to 1\n",
    "for sentence in sentenceValue:\n",
    "\n",
    "    sentenceValue[sentence] = (sentenceValue[sentence] * (1.000000)) / max(sentenceValue.values())\n",
    "\n",
    "# sentence length feature\n",
    "sentenceLength = dict()"
   ]
  },
  {
   "cell_type": "code",
   "execution_count": 8,
   "metadata": {},
   "outputs": [
    {
     "data": {
      "text/plain": [
       "{'शिक्षा सबसे महत्वपूर्ण तंत्र है जो व्यक्ति के जीवन के साथ ही देश के विकास में भी महत्वपूर्ण भूमिका  निभाती है': 0,\n",
       " ' आजकल यह किसी भी समाज की नई पीढ़ी के उज्ज्वल भविष्य के लिए एक महत्वपूर्ण कारक बन गयी है': -0.9971732887740798,\n",
       " ' शिक्षा के महत्व को ध्यान में रखते हुए सरकार के द्वारा  साल से  साल तक की आयु वाले सभी बच्चों के लिए शिक्षा को अनिवार्य कर दिया गया है': 0,\n",
       " ' शिक्षा सभी के जीवन को सकारात्मक तरीके से प्रभावित करती है और हमें जीवन की सभी छोटी और बड़ी समस्याओं का समाना करना सिखाती है': 0,\n",
       " ' समाज में सभी के लिए शिक्षा की ओर इतने बड़े स्तर पर जागरुक करने के बाद भी देश के विभिन्न क्षेत्रों में शिक्षा का प्रतिशत अभी भी समान है': 0,\n",
       " 'पिछड़े क्षेत्रों में रहने वाले लोगों के लिए अच्छी शिक्षा के उचित लाभ प्राप्त नहीं हो रहे हैं क्योंकि उनके पास धन और अन्य साधनों की कमी है': 0,\n",
       " 'यद्यपि इन क्षेत्रों में इस समस्या को सुलझाने के लिए सरकार द्वारा कुछ नई और प्रभावी रणनीतियों की योजना बनाकर लागू किया गया है': 0,\n",
       " 'शिक्षा ने मानसिक स्थिति को सुधारा है और लोगों के सोचने के तरीके को बदला है': 0.05308358714605824,\n",
       " 'यह आगे बढ़ने और सफलता और अनुभव प्राप्त करने के लिए आत्मविश्वास लाती है और सोच को कार्य रुप में बदलती है': 0,\n",
       " 'बिना शिक्षा के जीवन लक्ष्य रहित और कठिन हो जाता है': 0.25382336276203626,\n",
       " 'इसलिए हमें शिक्षा के महत्व और दैनिक जीवन में इसकी आवश्यकता को समझना चाहिए': 0.926818505417785,\n",
       " 'हमें पिछड़े क्षेत्रों में लोगों को शिक्षा के महत्व को बताकर इसे प्रोत्साहन देना चाहिए': 0.5806111842123143,\n",
       " 'विकलांग और गरीब व्यक्तियों को भी अमीर और सामान्य व्यक्तियों की तरह वैश्विक विकास प्राप्त करने के लिए शिक्षा की समान आवश्यकता है और उन्हें समान अधिकार भी प्राप्त है': 0,\n",
       " 'हम में से सभी को उच्च स्तर पर शिक्षित होने के लिए अपने सबसे अच्छे प्रयासों को करने के साथ ही सभी की शिक्षा तक पहुँच को संभव बनाना चाहिए जिसमें सभी गरीब और विकलांग व्यक्ति वैश्विक आधार पर भाग ले सकें': 0,\n",
       " 'कुछ लोग ज्ञान और कौशल की कमी के कारण पूरी तरह से अशिक्षित रहकर बहुत दर्दनाक जीवन जीते हैं': -0.9971732887740798,\n",
       " ' कुछ लोग शिक्षित होते हैं लेकिन पिछड़े इलाकों में उचित शिक्षा प्रणाली के अभाव के कारण अपने दैनिक कार्यों के लिए धन जोड़ने में भी पर्याप्त कुशल नहीं होते': 0,\n",
       " 'इस प्रकार हमें सभी के लिए अच्छी शिक्षा प्रणाली को प्राप्त करने के समान अवसर देने की कोशिश करनी चाहिए चाहे वो गरीब हो या अमीर': 0,\n",
       " ' एक देश नागरिकों के वैयक्तिक विकास और वृद्धि के बिना विकसित नही हो सकता': 0.926818505417785,\n",
       " ' इस प्रकार एक देश का व्यापक विकास उस में देश में नागरिकों के लिए उपलब्ध प्रचलित शिक्षा प्रणाली पर निर्भर करता है': 0,\n",
       " 'देश में हर क्षेत्र में नागरिकों के लिए अच्छी और उचित शिक्षा प्रणाली को उपलब्ध कराए जाने के सामान्य लक्ष्य को निर्धारित किया जाना चाहिए और शिक्षा प्राप्ति के रास्ते को सुगम व सुलभ्य बनाए जाने की कोशिश की जानी चाहिए': 0,\n",
       " 'इस तरह देश अपने चहुँमुखी विकास की ओर अग्रसर होगा': -0.3048106211022167,\n",
       " '': 0}"
      ]
     },
     "execution_count": 8,
     "metadata": {},
     "output_type": "execute_result"
    }
   ],
   "source": [
    "def sentence_length(sentences):\n",
    "    MinL = 5  # minm len of sentence\n",
    "    MaxL = 20  # maxm len of sentence\n",
    "    Mintheta = 0  # minm angle theta\n",
    "    Maxtheta = 180  # maxm angle theta\n",
    "    for sentence in sentences:\n",
    "        L = sentence.split()\n",
    "        L = len(L)\n",
    "        if ((L < MinL) or (L > MaxL)):  # if senLength less than MinLength or Grtr than MaxLen then ignore the sentence\n",
    "            sentenceLength[sentence] = 0\n",
    "        else:\n",
    "            Sl = math.sin((L - MinL) * ((Maxtheta - Mintheta) / (MaxL - MinL)))  # calculate the sentence\n",
    "            sentenceLength[sentence] = Sl\n",
    "    return sentenceLength\n",
    "\n",
    "\n",
    "sentence_length(sentences)  # calling sentence_length function\n"
   ]
  },
  {
   "cell_type": "code",
   "execution_count": 9,
   "metadata": {},
   "outputs": [
    {
     "name": "stdout",
     "output_type": "stream",
     "text": [
      "{'शिक्षा सबसे महत्वपूर्ण तंत्र है जो व्यक्ति के जीवन के साथ ही देश के विकास में भी महत्वपूर्ण भूमिका  निभाती है': 1, ' आजकल यह किसी भी समाज की नई पीढ़ी के उज्ज्वल भविष्य के लिए एक महत्वपूर्ण कारक बन गयी है': 2, ' शिक्षा के महत्व को ध्यान में रखते हुए सरकार के द्वारा  साल से  साल तक की आयु वाले सभी बच्चों के लिए शिक्षा को अनिवार्य कर दिया गया है': 3, ' शिक्षा सभी के जीवन को सकारात्मक तरीके से प्रभावित करती है और हमें जीवन की सभी छोटी और बड़ी समस्याओं का समाना करना सिखाती है': 4, ' समाज में सभी के लिए शिक्षा की ओर इतने बड़े स्तर पर जागरुक करने के बाद भी देश के विभिन्न क्षेत्रों में शिक्षा का प्रतिशत अभी भी समान है': 5, 'पिछड़े क्षेत्रों में रहने वाले लोगों के लिए अच्छी शिक्षा के उचित लाभ प्राप्त नहीं हो रहे हैं क्योंकि उनके पास धन और अन्य साधनों की कमी है': 6, 'यद्यपि इन क्षेत्रों में इस समस्या को सुलझाने के लिए सरकार द्वारा कुछ नई और प्रभावी रणनीतियों की योजना बनाकर लागू किया गया है': 7, 'शिक्षा ने मानसिक स्थिति को सुधारा है और लोगों के सोचने के तरीके को बदला है': 8, 'यह आगे बढ़ने और सफलता और अनुभव प्राप्त करने के लिए आत्मविश्वास लाती है और सोच को कार्य रुप में बदलती है': 9, 'बिना शिक्षा के जीवन लक्ष्य रहित और कठिन हो जाता है': 10, 'इसलिए हमें शिक्षा के महत्व और दैनिक जीवन में इसकी आवश्यकता को समझना चाहिए': 11, 'हमें पिछड़े क्षेत्रों में लोगों को शिक्षा के महत्व को बताकर इसे प्रोत्साहन देना चाहिए': 12, 'विकलांग और गरीब व्यक्तियों को भी अमीर और सामान्य व्यक्तियों की तरह वैश्विक विकास प्राप्त करने के लिए शिक्षा की समान आवश्यकता है और उन्हें समान अधिकार भी प्राप्त है': 13, 'हम में से सभी को उच्च स्तर पर शिक्षित होने के लिए अपने सबसे अच्छे प्रयासों को करने के साथ ही सभी की शिक्षा तक पहुँच को संभव बनाना चाहिए जिसमें सभी गरीब और विकलांग व्यक्ति वैश्विक आधार पर भाग ले सकें': 14, 'कुछ लोग ज्ञान और कौशल की कमी के कारण पूरी तरह से अशिक्षित रहकर बहुत दर्दनाक जीवन जीते हैं': 15, ' कुछ लोग शिक्षित होते हैं लेकिन पिछड़े इलाकों में उचित शिक्षा प्रणाली के अभाव के कारण अपने दैनिक कार्यों के लिए धन जोड़ने में भी पर्याप्त कुशल नहीं होते': 16, 'इस प्रकार हमें सभी के लिए अच्छी शिक्षा प्रणाली को प्राप्त करने के समान अवसर देने की कोशिश करनी चाहिए चाहे वो गरीब हो या अमीर': 17, ' एक देश नागरिकों के वैयक्तिक विकास और वृद्धि के बिना विकसित नही हो सकता': 18, ' इस प्रकार एक देश का व्यापक विकास उस में देश में नागरिकों के लिए उपलब्ध प्रचलित शिक्षा प्रणाली पर निर्भर करता है': 19, 'देश में हर क्षेत्र में नागरिकों के लिए अच्छी और उचित शिक्षा प्रणाली को उपलब्ध कराए जाने के सामान्य लक्ष्य को निर्धारित किया जाना चाहिए और शिक्षा प्राप्ति के रास्ते को सुगम व सुलभ्य बनाए जाने की कोशिश की जानी चाहिए': 20, 'इस तरह देश अपने चहुँमुखी विकास की ओर अग्रसर होगा': 21, '': 22}\n"
     ]
    }
   ],
   "source": [
    "# sentence position feature\n",
    "sentencePosition = dict()\n",
    "sentenceNumber = dict()\n",
    "\n",
    "\n",
    "def sentence_position(sentences):\n",
    "    TRSH = 0.01\n",
    "    Mintheta = 0\n",
    "    Maxtheta = 360\n",
    "    CP = 1\n",
    "    MinV = len(sentences) * TRSH\n",
    "    MaxV = len(sentences) * (1 - TRSH)\n",
    "    for sentence in sentences:\n",
    "        if ((CP == 1) or (CP == len(sentences))):  # if sentence postion is 1st or last then its important\n",
    "            sentencePosition[sentence] = 1\n",
    "            sentenceNumber[sentence] = CP\n",
    "        else:\n",
    "            SP = math.cos((CP - MinV) * ((Maxtheta - Mintheta) / (MaxV - MinV)))  # calculating sentence position\n",
    "            sentencePosition[sentence] = SP\n",
    "            sentenceNumber[sentence] = CP\n",
    "        CP = CP + 1\n",
    "    return sentencePosition\n",
    "\n",
    "\n",
    "sentence_position(sentences)\n",
    "print(sentenceNumber)"
   ]
  },
  {
   "cell_type": "code",
   "execution_count": 10,
   "metadata": {},
   "outputs": [],
   "source": [
    "# sentence Similarity feature by Graph\n",
    "sentToken = []  # each sentence containg token\n",
    "for sent in sentences:\n",
    "    temp = sent.split()\n",
    "    f = open(\"stopwords.txt\", encoding=\"utf8\")\n",
    "    stopwords = [x.strip() for x in f.readlines()]\n",
    "    token = [i for i in temp if i not in stopwords]\n",
    "    sentToken.append(token)\n",
    "# print(sentToken)"
   ]
  },
  {
   "cell_type": "code",
   "execution_count": 11,
   "metadata": {},
   "outputs": [],
   "source": [
    "# retuen weight of two sentences\n",
    "def weight(i, j):\n",
    "    sent1 = sentToken[i]\n",
    "    sent2 = sentToken[j]\n",
    "    return len(list(set(sent1).intersection(sent2)))\n",
    "\n",
    "sentLen = len(sentences)\n",
    "\n",
    "sentencesGraph = [[0 for x in range(sentLen)] for y in range(sentLen)]\n",
    "for i in range(0, sentLen):\n",
    "    for j in range(0, sentLen):\n",
    "        if i != j:\n",
    "            sentencesGraph[i][j] = weight(i, j)\n",
    "        else:\n",
    "            sentencesGraph[i][j] = 0\n"
   ]
  },
  {
   "cell_type": "code",
   "execution_count": 12,
   "metadata": {},
   "outputs": [],
   "source": [
    "senSimlariy = []\n",
    "sum = 0\n",
    "for i in range(0, sentLen):\n",
    "    for j in range(0, sentLen):\n",
    "        sum += sentencesGraph[i][j]\n",
    "    senSimlariy.append(sum)\n",
    "    sum = 0\n",
    "sentencesSimilarity = dict()\n",
    "i = 0  # indexing the sentence similarity sentences\n",
    "for sentence in sentences:\n",
    "    sentencesSimilarity[sentence] = senSimlariy[i] / max(senSimlariy)\n",
    "    i += 1\n",
    "\n",
    "# sentence Feature add for ranking of sentences\n",
    "sentenceRanking = dict()\n",
    "\n"
   ]
  },
  {
   "cell_type": "code",
   "execution_count": 13,
   "metadata": {},
   "outputs": [
    {
     "data": {
      "text/plain": [
       "{'शिक्षा सबसे महत्वपूर्ण तंत्र है जो व्यक्ति के जीवन के साथ ही देश के विकास में भी महत्वपूर्ण भूमिका  निभाती है': 2.8055555555555554,\n",
       " ' आजकल यह किसी भी समाज की नई पीढ़ी के उज्ज्वल भविष्य के लिए एक महत्वपूर्ण कारक बन गयी है': 2.203616847309529,\n",
       " ' शिक्षा के महत्व को ध्यान में रखते हुए सरकार के द्वारा  साल से  साल तक की आयु वाले सभी बच्चों के लिए शिक्षा को अनिवार्य कर दिया गया है': 2.234096286261131,\n",
       " ' शिक्षा सभी के जीवन को सकारात्मक तरीके से प्रभावित करती है और हमें जीवन की सभी छोटी और बड़ी समस्याओं का समाना करना सिखाती है': 2.5707643159352154,\n",
       " ' समाज में सभी के लिए शिक्षा की ओर इतने बड़े स्तर पर जागरुक करने के बाद भी देश के विभिन्न क्षेत्रों में शिक्षा का प्रतिशत अभी भी समान है': 2.0418317769389507,\n",
       " 'पिछड़े क्षेत्रों में रहने वाले लोगों के लिए अच्छी शिक्षा के उचित लाभ प्राप्त नहीं हो रहे हैं क्योंकि उनके पास धन और अन्य साधनों की कमी है': 2.4725532332951023,\n",
       " 'यद्यपि इन क्षेत्रों में इस समस्या को सुलझाने के लिए सरकार द्वारा कुछ नई और प्रभावी रणनीतियों की योजना बनाकर लागू किया गया है': 2.1325885269188194,\n",
       " 'शिक्षा ने मानसिक स्थिति को सुधारा है और लोगों के सोचने के तरीके को बदला है': 1.9771749689815756,\n",
       " 'यह आगे बढ़ने और सफलता और अनुभव प्राप्त करने के लिए आत्मविश्वास लाती है और सोच को कार्य रुप में बदलती है': 1.5808775159875073,\n",
       " 'बिना शिक्षा के जीवन लक्ष्य रहित और कठिन हो जाता है': 2.807555023785742,\n",
       " 'इसलिए हमें शिक्षा के महत्व और दैनिक जीवन में इसकी आवश्यकता को समझना चाहिए': 3.3308341300312216,\n",
       " 'हमें पिछड़े क्षेत्रों में लोगों को शिक्षा के महत्व को बताकर इसे प्रोत्साहन देना चाहिए': 2.755007337518223,\n",
       " 'विकलांग और गरीब व्यक्तियों को भी अमीर और सामान्य व्यक्तियों की तरह वैश्विक विकास प्राप्त करने के लिए शिक्षा की समान आवश्यकता है और उन्हें समान अधिकार भी प्राप्त है': 2.806282732222999,\n",
       " 'हम में से सभी को उच्च स्तर पर शिक्षित होने के लिए अपने सबसे अच्छे प्रयासों को करने के साथ ही सभी की शिक्षा तक पहुँच को संभव बनाना चाहिए जिसमें सभी गरीब और विकलांग व्यक्ति वैश्विक आधार पर भाग ले सकें': 2.4216867782840152,\n",
       " 'कुछ लोग ज्ञान और कौशल की कमी के कारण पूरी तरह से अशिक्षित रहकर बहुत दर्दनाक जीवन जीते हैं': 2.3660500312211266,\n",
       " ' कुछ लोग शिक्षित होते हैं लेकिन पिछड़े इलाकों में उचित शिक्षा प्रणाली के अभाव के कारण अपने दैनिक कार्यों के लिए धन जोड़ने में भी पर्याप्त कुशल नहीं होते': 2.6409924229376296,\n",
       " 'इस प्रकार हमें सभी के लिए अच्छी शिक्षा प्रणाली को प्राप्त करने के समान अवसर देने की कोशिश करनी चाहिए चाहे वो गरीब हो या अमीर': 2.834383722351,\n",
       " ' एक देश नागरिकों के वैयक्तिक विकास और वृद्धि के बिना विकसित नही हो सकता': 2.2627629546654093,\n",
       " ' इस प्रकार एक देश का व्यापक विकास उस में देश में नागरिकों के लिए उपलब्ध प्रचलित शिक्षा प्रणाली पर निर्भर करता है': 2.670584078976245,\n",
       " 'देश में हर क्षेत्र में नागरिकों के लिए अच्छी और उचित शिक्षा प्रणाली को उपलब्ध कराए जाने के सामान्य लक्ष्य को निर्धारित किया जाना चाहिए और शिक्षा प्राप्ति के रास्ते को सुगम व सुलभ्य बनाए जाने की कोशिश की जानी चाहिए': 2.916695980245187,\n",
       " 'इस तरह देश अपने चहुँमुखी विकास की ओर अग्रसर होगा': 1.7518761652012125,\n",
       " '': 2.0}"
      ]
     },
     "execution_count": 13,
     "metadata": {},
     "output_type": "execute_result"
    }
   ],
   "source": [
    "def sentence_ranking(sentences):\n",
    "    f4 = sentencesSimilarity\n",
    "    f1 = sentenceValue\n",
    "    f2 = sentenceLength\n",
    "    f3 = sentencePosition\n",
    "    for sentence in sentences:\n",
    "        temp = abs(f1[sentence]) + abs(f2[sentence]) + abs(f3[sentence])  + abs(f4[sentence])\n",
    "        sentenceRanking[sentence] = temp\n",
    "    return sentenceRanking\n",
    "\n",
    "\n",
    "sentence_ranking(sentences)\n"
   ]
  },
  {
   "cell_type": "code",
   "execution_count": 14,
   "metadata": {},
   "outputs": [],
   "source": [
    "# function to calculate summary\n",
    "sentenceSummary = dict()\n",
    "\n",
    "def summary():\n",
    "    senLength = len(sentences)\n",
    "    percent = int(input(\"Enter the percentage of summary you want of original paragraph \"))\n",
    "    count = int(senLength * (percent / 100))\n",
    "    if count > senLength:\n",
    "        print(\"Wrong Input..must be less than original sentence length.\")\n",
    "\n",
    "    temp = 0\n",
    "    sentence_Ranking = sorted(sentenceRanking.items(), key=lambda t: t[1],\n",
    "                              reverse=True)  # sorting sentence_Rank dict in reverse order\n",
    "    for k in sentence_Ranking:\n",
    "        if temp < count:\n",
    "            sentenceSummary[sentenceNumber[k[0]]] = k[0]\n",
    "            temp = temp + 1\n",
    "        else:\n",
    "            return 0\n"
   ]
  },
  {
   "cell_type": "code",
   "execution_count": 16,
   "metadata": {},
   "outputs": [
    {
     "name": "stdout",
     "output_type": "stream",
     "text": [
      "Enter the percentage of summary you want of original paragraph 30\n",
      "\n",
      "\n",
      "शिक्षा सबसे महत्वपूर्ण तंत्र है जो व्यक्ति के जीवन के साथ ही देश के विकास में भी महत्वपूर्ण भूमिका  निभाती है|\n",
      "बिना शिक्षा के जीवन लक्ष्य रहित और कठिन हो जाता है|\n",
      "इसलिए हमें शिक्षा के महत्व और दैनिक जीवन में इसकी आवश्यकता को समझना चाहिए|\n",
      "विकलांग और गरीब व्यक्तियों को भी अमीर और सामान्य व्यक्तियों की तरह वैश्विक विकास प्राप्त करने के लिए शिक्षा की समान आवश्यकता है और उन्हें समान अधिकार भी प्राप्त है|\n",
      "इस प्रकार हमें सभी के लिए अच्छी शिक्षा प्रणाली को प्राप्त करने के समान अवसर देने की कोशिश करनी चाहिए चाहे वो गरीब हो या अमीर|\n",
      "देश में हर क्षेत्र में नागरिकों के लिए अच्छी और उचित शिक्षा प्रणाली को उपलब्ध कराए जाने के सामान्य लक्ष्य को निर्धारित किया जाना चाहिए और शिक्षा प्राप्ति के रास्ते को सुगम व सुलभ्य बनाए जाने की कोशिश की जानी चाहिए|\n"
     ]
    }
   ],
   "source": [
    "summary()  # calling summary function\n",
    "#print(sentenceSummary)\n",
    "print('\\n')\n",
    "sentence_summary = sorted(sentenceSummary.items())\n",
    "for x in sentence_summary:\n",
    "    print(x[1]+\"|\")\n"
   ]
  }
 ],
 "metadata": {
  "kernelspec": {
   "display_name": "Python 3",
   "language": "python",
   "name": "python3"
  },
  "language_info": {
   "codemirror_mode": {
    "name": "ipython",
    "version": 3
   },
   "file_extension": ".py",
   "mimetype": "text/x-python",
   "name": "python",
   "nbconvert_exporter": "python",
   "pygments_lexer": "ipython3",
   "version": "3.8.5"
  }
 },
 "nbformat": 4,
 "nbformat_minor": 4
}
